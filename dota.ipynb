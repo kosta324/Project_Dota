{
 "cells": [
  {
   "cell_type": "code",
   "execution_count": null,
   "metadata": {},
   "outputs": [],
   "source": [
    "import pandas as pd\n",
    "import numpy as np\n",
    "from datetime import datetime\n",
    "from sklearn.ensemble import GradientBoostingClassifier\n",
    "from sklearn.model_selection import KFold, cross_val_score\n",
    "from sklearn.preprocessing import StandardScaler\n",
    "from sklearn.linear_model import LogisticRegression"
   ]
  },
  {
   "cell_type": "code",
   "execution_count": null,
   "metadata": {},
   "outputs": [],
   "source": [
    "data = pd.read_csv('C:/Users/Home/Documents/Coursera/final_statement/features.csv', index_col='match_id')"
   ]
  },
  {
   "cell_type": "code",
   "execution_count": null,
   "metadata": {},
   "outputs": [],
   "source": [
    "X = data.drop(['duration',\n",
    "               'radiant_win',\n",
    "               'tower_status_radiant',\n",
    "               'tower_status_dire',\n",
    "               'barracks_status_radiant',\n",
    "               'barracks_status_dire'], axis=1)"
   ]
  },
  {
   "cell_type": "code",
   "execution_count": null,
   "metadata": {},
   "outputs": [],
   "source": [
    "for i in list(X):\n",
    "    if X[i].isnull().sum() > 0:\n",
    "        print(i, ' - ', X[i].isnull().sum())"
   ]
  },
  {
   "cell_type": "markdown",
   "metadata": {},
   "source": [
    "#### Пропуски имеют:\n",
    "- игровое время первой крови\n",
    "- команда, совершившая первую кровь\n",
    "- игрок, причастный к событию\n",
    "- второй игрок, причастный к событию\n",
    "        видимо команды играли слишком осторожно и никто не был убит в первые 5 минут\n",
    "- время первого приобретения командой Radiant предмета \"bottle\"\n",
    "- время приобретения командой Radiant предмета \"courier\"\n",
    "- время приобретения командой Radiant предмета \"flying_courier\"\n",
    "- время установки командой Radiant первого \"наблюдателя\", т.е. предмета, который позволяет видеть часть игрового поля\n",
    "- время первого приобретения командой Dire предмета \"bottle\"\n",
    "- время приобретения командой Dire предмета \"courier\"\n",
    "- время приобретения командой Dire предмета \"flying_courier\"\n",
    "- время установки командой Dire первого \"наблюдателя\", т.е. предмета, который позволяет видеть часть игрового поля\n",
    "        судя по всему команды не приобрели нужные предметы и не выставляли наблюдателей"
   ]
  },
  {
   "cell_type": "code",
   "execution_count": null,
   "metadata": {},
   "outputs": [],
   "source": [
    "X = X.fillna(0)"
   ]
  },
  {
   "cell_type": "code",
   "execution_count": null,
   "metadata": {},
   "outputs": [],
   "source": [
    "y = data['radiant_win']"
   ]
  },
  {
   "cell_type": "markdown",
   "metadata": {},
   "source": [
    "#### Столбец, содержащий целевую переменную: radiant_win"
   ]
  },
  {
   "cell_type": "code",
   "execution_count": null,
   "metadata": {},
   "outputs": [],
   "source": [
    "kf = KFold(n_splits=5, shuffle=True, random_state=1)\n",
    "nambers = [10, 20, 30, 40]\n",
    "for i in nambers:\n",
    "    clf = GradientBoostingClassifier(n_estimators=i, random_state=1)\n",
    "    start = datetime.now()\n",
    "    score = cross_val_score(clf, X, y, scoring='roc_auc', cv=kf)\n",
    "    print(\"Namber of trees: %i, ROC_AUC: %.1f, time: %s\" % (i, score.mean() * 100, datetime.now() - start))"
   ]
  },
  {
   "cell_type": "markdown",
   "metadata": {},
   "source": [
    "#### Кросс-валидация для градиентного бустинга с 30 деревьями проводилась 1 минуту 47 секунд."
   ]
  },
  {
   "cell_type": "markdown",
   "metadata": {},
   "source": [
    "#### Имеет смысл использовать больше 30 деревьев в градиентном бустинге, т.к. качество продолжает расти при дальнейшем увеличении их числа.\n",
    "Чтобы ускорить обучение можно уменьшить глубину деревьев или использовать для кросс-валидации не всю выборку."
   ]
  },
  {
   "cell_type": "code",
   "execution_count": null,
   "metadata": {},
   "outputs": [],
   "source": [
    "scaler = StandardScaler()\n",
    "X_scaled = scaler.fit_transform(X)"
   ]
  },
  {
   "cell_type": "code",
   "execution_count": null,
   "metadata": {},
   "outputs": [],
   "source": [
    "def score_roc_auc (data):\n",
    "    kf = KFold(n_splits=5, shuffle=True, random_state=1)\n",
    "    C = [1e-7, 1e-4, 1e-3, 1]\n",
    "    for i in C:\n",
    "        logit = LogisticRegression(C=i, random_state=1, penalty='l2')\n",
    "        start = datetime.now()\n",
    "        score = cross_val_score(logit, data, y, scoring='roc_auc', cv=kf)\n",
    "        print(\"C: %f, ROC_AUC: %.1f, time: %s\" % (i, score.mean() * 100, datetime.now() - start))"
   ]
  },
  {
   "cell_type": "code",
   "execution_count": null,
   "metadata": {},
   "outputs": [],
   "source": [
    "score_roc_auc(X_scaled)"
   ]
  },
  {
   "cell_type": "markdown",
   "metadata": {},
   "source": [
    "#### Качество у логистической регрессии над всеми исходными признаками получилось 71.6\n",
    "Оно выше, чем у градиентного бустинга, логистическая регрессия по сравнению с градиентным бустингом работает быстре."
   ]
  },
  {
   "cell_type": "code",
   "execution_count": null,
   "metadata": {},
   "outputs": [],
   "source": [
    "X_clean = X.drop(['lobby_type',\n",
    "                  'r1_hero', 'r2_hero', 'r3_hero', 'r4_hero', 'r5_hero',\n",
    "                  'd1_hero', 'd2_hero', 'd3_hero', 'd4_hero', 'd5_hero',\n",
    "                  'first_blood_player1', 'first_blood_player2'], axis=1)"
   ]
  },
  {
   "cell_type": "code",
   "execution_count": null,
   "metadata": {},
   "outputs": [],
   "source": [
    "X_clean_scaled = scaler.fit_transform(X_clean)"
   ]
  },
  {
   "cell_type": "code",
   "execution_count": null,
   "metadata": {},
   "outputs": [],
   "source": [
    "score_roc_auc(X_clean_scaled)"
   ]
  },
  {
   "cell_type": "markdown",
   "metadata": {},
   "source": [
    "#### Удаление категориальных признаков не повлияло на качество (значение метрики 71.6)"
   ]
  },
  {
   "cell_type": "code",
   "execution_count": null,
   "metadata": {},
   "outputs": [],
   "source": [
    "hero = ['r1_hero', 'r2_hero', 'r3_hero', 'r4_hero', 'r5_hero',\n",
    "        'd1_hero', 'd2_hero', 'd3_hero', 'd4_hero', 'd5_hero']\n",
    "uniq = np.array([])\n",
    "for i in hero:\n",
    "    uniq = np.append(uniq, pd.unique(X[i]))\n",
    "N = np.shape(pd.value_counts(uniq))[0]\n",
    "print(N)"
   ]
  },
  {
   "cell_type": "markdown",
   "metadata": {},
   "source": [
    "#### 108 различных идентификаторов героев существует в данной игре"
   ]
  },
  {
   "cell_type": "code",
   "execution_count": null,
   "metadata": {},
   "outputs": [],
   "source": [
    "hero_c = [c for c in X.columns if 'hero' in c]\n",
    "all_heroes_id = np.unique(X[hero_c])\n",
    "wb = {}\n",
    "for id in all_heroes_id:\n",
    "    # Мы используем + 0 для автоматического приведения bool-->int.\n",
    "    r = [(X['r%d_hero' % n] == id) + 0 for n in range(1, 6)]\n",
    "    d = [(X['d%d_hero' % n] == id) + 0 for n in range(1, 6)]\n",
    "    wb['hero%s' % id] = sum(r) - sum(d)\n",
    "X_pick = X_clean.assign(**wb)"
   ]
  },
  {
   "cell_type": "code",
   "execution_count": null,
   "metadata": {},
   "outputs": [],
   "source": [
    "X_pick_scaled = scaler.fit_transform(X_pick)"
   ]
  },
  {
   "cell_type": "code",
   "execution_count": null,
   "metadata": {},
   "outputs": [],
   "source": [
    "score_roc_auc(X_pick_scaled)"
   ]
  },
  {
   "cell_type": "markdown",
   "metadata": {},
   "source": [
    "#### Качество при добавлении \"мешка слов\" по героям улучшилось и стало равным 75.2, т.к. мы стали использовать более полную информацию о игроках."
   ]
  },
  {
   "cell_type": "code",
   "execution_count": null,
   "metadata": {},
   "outputs": [],
   "source": [
    "X_test = pd.read_csv('features_test.csv', index_col='match_id')"
   ]
  },
  {
   "cell_type": "code",
   "execution_count": null,
   "metadata": {},
   "outputs": [],
   "source": [
    "C = 1e-3\n",
    "logit = LogisticRegression(C=C, random_state=1, penalty='l2')\n",
    "logit.fit(X_pick_scaled, y)"
   ]
  },
  {
   "cell_type": "code",
   "execution_count": null,
   "metadata": {},
   "outputs": [],
   "source": [
    "X_test = X_test.fillna(0)"
   ]
  },
  {
   "cell_type": "code",
   "execution_count": null,
   "metadata": {},
   "outputs": [],
   "source": [
    "X_test_clean = X_test.drop(['lobby_type',\n",
    "                  'r1_hero', 'r2_hero', 'r3_hero', 'r4_hero', 'r5_hero',\n",
    "                  'd1_hero', 'd2_hero', 'd3_hero', 'd4_hero', 'd5_hero',\n",
    "                  'first_blood_player1', 'first_blood_player2'], axis=1)"
   ]
  },
  {
   "cell_type": "code",
   "execution_count": null,
   "metadata": {},
   "outputs": [],
   "source": [
    "hero_c = [c for c in X_test.columns if 'hero' in c]\n",
    "all_heroes_id = np.unique(X_test[hero_c])\n",
    "wb = {}\n",
    "for id in all_heroes_id:\n",
    "    # Мы используем + 0 для автоматического приведения bool-->int.\n",
    "    r = [(X_test['r%d_hero' % n] == id) + 0 for n in range(1, 6)]\n",
    "    d = [(X_test['d%d_hero' % n] == id) + 0 for n in range(1, 6)]\n",
    "    wb['hero%s' % id] = sum(r) - sum(d)\n",
    "X_test_pick = X_test_clean.assign(**wb)"
   ]
  },
  {
   "cell_type": "code",
   "execution_count": null,
   "metadata": {},
   "outputs": [],
   "source": [
    "X_test_pick_scaled = scaler.transform(X_test_pick)"
   ]
  },
  {
   "cell_type": "code",
   "execution_count": null,
   "metadata": {},
   "outputs": [],
   "source": [
    "pred = logit.predict_proba(X_test_pick_scaled)[:, 1]"
   ]
  },
  {
   "cell_type": "code",
   "execution_count": null,
   "metadata": {},
   "outputs": [],
   "source": [
    "pred.max()"
   ]
  },
  {
   "cell_type": "code",
   "execution_count": null,
   "metadata": {},
   "outputs": [],
   "source": [
    "pred.min()"
   ]
  },
  {
   "cell_type": "code",
   "execution_count": null,
   "metadata": {},
   "outputs": [],
   "source": [
    "X_test_pick.index.dtype"
   ]
  },
  {
   "cell_type": "markdown",
   "metadata": {},
   "source": [
    "#### У лучшего из алгоритмов получилось:\n",
    "- 0.0096 минимальное значение прогноза\n",
    "- 0.9947 максимальное значение прогноза"
   ]
  },
  {
   "cell_type": "code",
   "execution_count": null,
   "metadata": {},
   "outputs": [],
   "source": [
    "answer = pd.DataFrame(data=[X_test_pick.index, pred], index=['match_id', 'radiant_win']).T"
   ]
  },
  {
   "cell_type": "code",
   "execution_count": null,
   "metadata": {},
   "outputs": [],
   "source": [
    "answer['match_id'] = answer['match_id'].astype('Int32')"
   ]
  },
  {
   "cell_type": "code",
   "execution_count": null,
   "metadata": {},
   "outputs": [],
   "source": [
    "answer.dtypes"
   ]
  },
  {
   "cell_type": "code",
   "execution_count": null,
   "metadata": {},
   "outputs": [],
   "source": [
    "answer.to_csv('submission.csv', index=False)"
   ]
  },
  {
   "cell_type": "code",
   "execution_count": null,
   "metadata": {},
   "outputs": [],
   "source": []
  }
 ],
 "metadata": {
  "kernelspec": {
   "display_name": "Python 3",
   "language": "python",
   "name": "python3"
  },
  "language_info": {
   "codemirror_mode": {
    "name": "ipython",
    "version": 3
   },
   "file_extension": ".py",
   "mimetype": "text/x-python",
   "name": "python",
   "nbconvert_exporter": "python",
   "pygments_lexer": "ipython3",
   "version": "3.7.6"
  }
 },
 "nbformat": 4,
 "nbformat_minor": 4
}
